{
 "cells": [
  {
   "cell_type": "markdown",
   "id": "baeacca5",
   "metadata": {},
   "source": [
    "### Analysis of an E-commerce Dataset\n",
    "\n",
    "We have been provided with a combined e-commerce dataset. In this dataset, each user has the ability to post a rating and review for the products they purchased. Additionally, other users can evaluate the initial rating and review by expressing their trust or distrust.\n",
    "\n",
    "This dataset includes a wealth of information for each user. Details such as their profile, ID, gender, city of birth, product ratings (on a scale of 1-5), reviews, and the prices of the products they purchased are all included. Moreover, for each product rating, we have information about the product name, ID, price, and category, the rating score, the timestamp of the rating and review, and the average helpfulness of the rating given by others (on a scale of 1-5).\n",
    "\n",
    "The dataset is from several data sources, and we have merged all the data into a single CSV file named 'A Combined E-commerce Dataset.csv'. The structure of this dataset is represented in the header shown below.\n",
    "\n",
    "| userId | gender | rating | review| item | category | helpfulness | timestamp | item_id | item_price | user_city|\n",
    "\n",
    "    | ---- | ---- | ---- | ---- | ---- | ---- | ---- | ---- | ---- |  ---- |  ---- |  \n",
    "    \n",
    "#### Description of Fields\n",
    "\n",
    "* __userId__ - the user's id\n",
    "* __gender__ - the user's gender\n",
    "* __rating__ - the user's rating towards the item\n",
    "* __review__ - the user's review towards the item\n",
    "* __item__ - the item's name\n",
    "* __category__ - the category of the item\n",
    "* __helpfulness__ - the average helpfulness of this rating\n",
    "* __timestamp__ - the timestamp when the rating is created\n",
    "* __item_id__ - the item's id\n",
    "* __item_price__ - the item's price\n",
    "* __user_city__ - the city of user's birth\n",
    "\n",
    "Note that, a user may rate multiple items and an item may receive ratings and reviews from multiple users. The \"helpfulness\" is an average value based on all the helpfulness values given by others.\n",
    "\n",
    "There are four questions to explore with the data as shown below.\n",
    "\n",
    "\n",
    "\n",
    "<img src=\"data-relation.png\" align=\"left\" width=\"400\"/>\n"
   ]
  },
  {
   "cell_type": "markdown",
   "id": "5caaf57e",
   "metadata": {},
   "source": [
    " #### Q1. Remove missing data\n",
    " \n",
    "Please remove the following records in the csv file: \n",
    " \n",
    " * gender/rating/helpfulness is missing\n",
    " * review is 'none'\n",
    "\n",
    "__Display the DataFrame, counting number of Null values in each column, and print the length of the data__ before and after removing the missing data.  "
   ]
  },
  {
   "cell_type": "code",
   "execution_count": 3,
   "id": "001abdaa",
   "metadata": {},
   "outputs": [],
   "source": [
    "# Importing our data & tools\n",
    "import pandas as pd\n",
    "import numpy as np\n",
    "%matplotlib inline \n",
    "ecomdata = pd.read_csv(\"The E-commerce Dataset.csv\")\n"
   ]
  },
  {
   "cell_type": "code",
   "execution_count": 4,
   "id": "7bc5d2f6",
   "metadata": {},
   "outputs": [
    {
     "name": "stdout",
     "output_type": "stream",
     "text": [
      "19916\n"
     ]
    }
   ],
   "source": [
    "#Cleaning Missing Data based on the question's condition put into a boolean vector\n",
    "clean_ecomdata = ecomdata.drop(ecomdata.index[(ecomdata.gender.isna()) | (ecomdata.rating.isna()) | \n",
    "(ecomdata.helpfulness.isna()) | (ecomdata.review == 'none')])\n",
    "print(len(clean_ecomdata))\n"
   ]
  },
  {
   "cell_type": "code",
   "execution_count": 5,
   "id": "d251bfb6",
   "metadata": {},
   "outputs": [
    {
     "data": {
      "text/html": [
       "<div>\n",
       "<style scoped>\n",
       "    .dataframe tbody tr th:only-of-type {\n",
       "        vertical-align: middle;\n",
       "    }\n",
       "\n",
       "    .dataframe tbody tr th {\n",
       "        vertical-align: top;\n",
       "    }\n",
       "\n",
       "    .dataframe thead th {\n",
       "        text-align: right;\n",
       "    }\n",
       "</style>\n",
       "<table border=\"1\" class=\"dataframe\">\n",
       "  <thead>\n",
       "    <tr style=\"text-align: right;\">\n",
       "      <th></th>\n",
       "      <th>userId</th>\n",
       "      <th>timestamp</th>\n",
       "      <th>review</th>\n",
       "      <th>item</th>\n",
       "      <th>rating</th>\n",
       "      <th>helpfulness</th>\n",
       "      <th>gender</th>\n",
       "      <th>category</th>\n",
       "      <th>item_id</th>\n",
       "      <th>item_price</th>\n",
       "      <th>user_city</th>\n",
       "    </tr>\n",
       "  </thead>\n",
       "  <tbody>\n",
       "    <tr>\n",
       "      <th>0</th>\n",
       "      <td>4051</td>\n",
       "      <td>12807</td>\n",
       "      <td>Great job for what it is!</td>\n",
       "      <td>eBay</td>\n",
       "      <td>5.0</td>\n",
       "      <td>2.0</td>\n",
       "      <td>F</td>\n",
       "      <td>Online Stores &amp; Services</td>\n",
       "      <td>88</td>\n",
       "      <td>149.00</td>\n",
       "      <td>39</td>\n",
       "    </tr>\n",
       "    <tr>\n",
       "      <th>1</th>\n",
       "      <td>4052</td>\n",
       "      <td>122899</td>\n",
       "      <td>Free Access Worth your Time</td>\n",
       "      <td>NetZero</td>\n",
       "      <td>5.0</td>\n",
       "      <td>0.0</td>\n",
       "      <td>F</td>\n",
       "      <td>Online Stores &amp; Services</td>\n",
       "      <td>46</td>\n",
       "      <td>53.00</td>\n",
       "      <td>39</td>\n",
       "    </tr>\n",
       "    <tr>\n",
       "      <th>2</th>\n",
       "      <td>33</td>\n",
       "      <td>12700</td>\n",
       "      <td>AOL..I love you!!!!!!!!!!!!</td>\n",
       "      <td>AOL (America Online)</td>\n",
       "      <td>5.0</td>\n",
       "      <td>4.0</td>\n",
       "      <td>F</td>\n",
       "      <td>Online Stores &amp; Services</td>\n",
       "      <td>0</td>\n",
       "      <td>145.84</td>\n",
       "      <td>31</td>\n",
       "    </tr>\n",
       "    <tr>\n",
       "      <th>3</th>\n",
       "      <td>33</td>\n",
       "      <td>21000</td>\n",
       "      <td>EBAY!!!  I LOVE YOU!!!! :-)*</td>\n",
       "      <td>eBay</td>\n",
       "      <td>5.0</td>\n",
       "      <td>4.0</td>\n",
       "      <td>F</td>\n",
       "      <td>Online Stores &amp; Services</td>\n",
       "      <td>88</td>\n",
       "      <td>149.00</td>\n",
       "      <td>31</td>\n",
       "    </tr>\n",
       "    <tr>\n",
       "      <th>4</th>\n",
       "      <td>33</td>\n",
       "      <td>22300</td>\n",
       "      <td>Blair Witch...Oh Come On.......</td>\n",
       "      <td>Blair Witch Project</td>\n",
       "      <td>1.0</td>\n",
       "      <td>4.0</td>\n",
       "      <td>F</td>\n",
       "      <td>Movies</td>\n",
       "      <td>12</td>\n",
       "      <td>44.00</td>\n",
       "      <td>31</td>\n",
       "    </tr>\n",
       "  </tbody>\n",
       "</table>\n",
       "</div>"
      ],
      "text/plain": [
       "   userId  timestamp                           review                  item  \\\n",
       "0    4051      12807        Great job for what it is!                  eBay   \n",
       "1    4052     122899      Free Access Worth your Time               NetZero   \n",
       "2      33      12700    AOL..I love you!!!!!!!!!!!!    AOL (America Online)   \n",
       "3      33      21000     EBAY!!!  I LOVE YOU!!!! :-)*                  eBay   \n",
       "4      33      22300  Blair Witch...Oh Come On.......   Blair Witch Project   \n",
       "\n",
       "   rating  helpfulness gender                  category  item_id  item_price  \\\n",
       "0     5.0          2.0      F  Online Stores & Services       88      149.00   \n",
       "1     5.0          0.0      F  Online Stores & Services       46       53.00   \n",
       "2     5.0          4.0      F  Online Stores & Services        0      145.84   \n",
       "3     5.0          4.0      F  Online Stores & Services       88      149.00   \n",
       "4     1.0          4.0      F                    Movies       12       44.00   \n",
       "\n",
       "   user_city  \n",
       "0         39  \n",
       "1         39  \n",
       "2         31  \n",
       "3         31  \n",
       "4         31  "
      ]
     },
     "execution_count": 5,
     "metadata": {},
     "output_type": "execute_result"
    }
   ],
   "source": [
    "#Display Clean Dataframe\n",
    "clean_ecomdata.head()"
   ]
  },
  {
   "cell_type": "code",
   "execution_count": 6,
   "id": "f9fb6241",
   "metadata": {},
   "outputs": [
    {
     "name": "stdout",
     "output_type": "stream",
     "text": [
      "before clean\n",
      "userId          0\n",
      "timestamp       0\n",
      "review          0\n",
      "item            0\n",
      "rating         17\n",
      "helpfulness    22\n",
      "gender         27\n",
      "category        0\n",
      "item_id         0\n",
      "item_price      0\n",
      "user_city       0\n",
      "dtype: int64\n",
      "\n",
      "after clean\n",
      "userId         0\n",
      "timestamp      0\n",
      "review         0\n",
      "item           0\n",
      "rating         0\n",
      "helpfulness    0\n",
      "gender         0\n",
      "category       0\n",
      "item_id        0\n",
      "item_price     0\n",
      "user_city      0\n",
      "dtype: int64\n"
     ]
    }
   ],
   "source": [
    "# isnull() gets a Series of True for null and False values.\n",
    "# sum() will sum on the result to count the True = 1 values, which represent the nulls.\n",
    "print(\"before clean\")\n",
    "print(ecomdata.isnull().sum())\n",
    "print()\n",
    "print(\"after clean\")\n",
    "print(clean_ecomdata.isnull().sum())"
   ]
  },
  {
   "cell_type": "code",
   "execution_count": 7,
   "id": "aded7c63",
   "metadata": {},
   "outputs": [
    {
     "name": "stdout",
     "output_type": "stream",
     "text": [
      "before\n",
      "20000\n",
      "\n",
      "after\n",
      "19916\n"
     ]
    }
   ],
   "source": [
    "#length of the data before and after removing the missing data\n",
    "print(\"before\")\n",
    "print(len(ecomdata))\n",
    "print()\n",
    "print(\"after\")\n",
    "print(len(clean_ecomdata))"
   ]
  },
  {
   "cell_type": "markdown",
   "id": "9771ad74",
   "metadata": {},
   "source": [
    "#### Q2. Descriptive statistics\n",
    "\n",
    "With the cleaned data in Q1, please provide the data summarization as below:\n",
    "\n",
    "* Q2.1 total number of unique users, unique reviews, unique items, and unique categories\n",
    "* Q2.2 descriptive statistics, e.g., the total number, mean, std, min and max regarding all rating records\n",
    "* Q2.3 descriptive statistics, e.g., mean, std, max, and min of the number of items rated by different genders \n",
    "* Q2.4 descriptive statistics, e.g., mean, std, max, min of the number of ratings that received by each items \n"
   ]
  },
  {
   "cell_type": "code",
   "execution_count": 8,
   "id": "838222ae",
   "metadata": {},
   "outputs": [
    {
     "name": "stdout",
     "output_type": "stream",
     "text": [
      "8562\n",
      "19459\n",
      "89\n",
      "9\n"
     ]
    }
   ],
   "source": [
    "#Q2.1 total number of unique users, unique reviews, unique items, and unique categories\n",
    "#unique() method returns array of unique values and with len() we can count\n",
    "\n",
    "print(len(clean_ecomdata['userId'].unique()))\n",
    "print(len(clean_ecomdata['review'].unique()))\n",
    "print(len(clean_ecomdata['item'].unique()))\n",
    "print(len(clean_ecomdata['category'].unique()))\n",
    "\n"
   ]
  },
  {
   "cell_type": "code",
   "execution_count": 9,
   "id": "fd4b173e",
   "metadata": {},
   "outputs": [
    {
     "data": {
      "text/plain": [
       "count    19916.000000\n",
       "mean         3.701798\n",
       "std          1.404451\n",
       "min          1.000000\n",
       "25%          3.000000\n",
       "50%          4.000000\n",
       "75%          5.000000\n",
       "max          5.000000\n",
       "Name: rating, dtype: float64"
      ]
     },
     "execution_count": 9,
     "metadata": {},
     "output_type": "execute_result"
    }
   ],
   "source": [
    "# Q2.2 descriptive statistics, e.g., the total number, mean, std, min and max regarding all rating records\n",
    "#.describe() shows us all the necessary info we only need to choose rating column\n",
    "clean_ecomdata['rating'].describe()"
   ]
  },
  {
   "cell_type": "code",
   "execution_count": 10,
   "id": "a8781e53",
   "metadata": {},
   "outputs": [
    {
     "name": "stdout",
     "output_type": "stream",
     "text": [
      "count        2.000000\n",
      "mean      9958.000000\n",
      "std        233.345238\n",
      "min       9793.000000\n",
      "25%       9875.500000\n",
      "50%       9958.000000\n",
      "75%      10040.500000\n",
      "max      10123.000000\n",
      "Name: item, dtype: float64\n"
     ]
    }
   ],
   "source": [
    "#Q2.3 descriptive statistics, e.g., mean, std, max, and min of the number of items rated by different genders\n",
    "# This groups the Data Frame by the gender column meaning all records with the same gender are grouped together.\n",
    "#After grouping by gender, we counts the number of item entries for each gender and do the descriptive statistic analysis\n",
    "['item'].count(): After grouping by gender, this counts the number of item entries (or records) for each gender group. Essentially, it gives you the number of items reviewed by each gender.\n",
    "print(clean_ecomdata.groupby('gender')['item'].count().describe())\n",
    "\n",
    "\n"
   ]
  },
  {
   "cell_type": "code",
   "execution_count": 11,
   "id": "38b1d473",
   "metadata": {},
   "outputs": [
    {
     "name": "stdout",
     "output_type": "stream",
     "text": [
      "                       count      mean       std  min   25%  50%  75%  max\n",
      "item                                                                      \n",
      "AOL (America Online)   939.0  2.500532  1.368528  1.0  1.00  2.0  4.0  5.0\n",
      "All Advantage          657.0  3.412481  1.541706  1.0  2.00  4.0  5.0  5.0\n",
      "Alta Vista (by 1stUp)  157.0  3.541401  1.263341  1.0  3.00  4.0  4.0  5.0\n",
      "Amazon.com             240.0  3.683333  1.571095  1.0  2.00  4.0  5.0  5.0\n",
      "American Airlines      185.0  3.054054  1.417015  1.0  2.00  3.0  4.0  5.0\n",
      "...                      ...       ...       ...  ...   ...  ...  ...  ...\n",
      "Wendy's                210.0  3.971429  1.093322  1.0  3.25  4.0  5.0  5.0\n",
      "What Lies Beneath      160.0  3.450000  1.201676  1.0  3.00  3.5  4.0  5.0\n",
      "X-Men                  245.0  4.118367  0.853074  1.0  4.00  4.0  5.0  5.0\n",
      "X.com                  173.0  4.023121  1.474409  1.0  3.00  5.0  5.0  5.0\n",
      "eBay                   596.0  4.333893  0.949618  1.0  4.00  5.0  5.0  5.0\n",
      "\n",
      "[89 rows x 8 columns]\n"
     ]
    }
   ],
   "source": [
    "#Q2.4 descriptive statistics, e.g., mean, std, max, min of the number of ratings that received by each items\n",
    "# This groups the DataFrame by the item column. This means that all records corresponding to the same item are grouped together.\n",
    "print(clean_ecomdata.groupby('item')['rating'].describe())\n"
   ]
  },
  {
   "cell_type": "markdown",
   "id": "9d7357eb",
   "metadata": {},
   "source": [
    "#### Q3. Plotting and Analysis\n",
    "\n",
    "Please try to explore the correlation between gender/helpfulness/category and ratings; for instance, do female/male users tend to provide higher ratings than male/female users? Hint: you may use the boxplot function to plot figures for comparison (___Challenge___)\n",
    "    \n",
    "You may need to select the most suitable graphic forms for ease of presentation. Most importantly, for each figure or subfigure, please summarise ___what each plot shows___ (i.e. observations and explanations). Finally, you may need to provide an overall summary of the data."
   ]
  },
  {
   "cell_type": "code",
   "execution_count": 26,
   "id": "7f5094ae",
   "metadata": {},
   "outputs": [
    {
     "data": {
      "text/plain": [
       "<Axes: xlabel='gender', ylabel='helpfulness'>"
      ]
     },
     "execution_count": 26,
     "metadata": {},
     "output_type": "execute_result"
    },
    {
     "data": {
      "image/png": "[encoded data removed]",
      "text/plain": [
       "<Figure size 640x480 with 1 Axes>"
      ]
     },
     "metadata": {},
     "output_type": "display_data"
    }
   ],
   "source": [
    "import seaborn as sns\n",
    "sns.boxplot(x='gender', y='helpfulness', data=clean_ecomdata)\n",
    "\n"
   ]
  },
  {
   "cell_type": "markdown",
   "id": "b6f4f19c",
   "metadata": {},
   "source": [
    "# Boxplot of Helpfulness by Gender:\n",
    "- Both male and female users seem to have reviews with a median helpfulness around 4.\n",
    "- The range of helpfulness scores is similar for both genders, with both having scores spread between the lower to upper quartiles.\n",
    "- There **doesn't seem to be a significant difference** in the perceived helpfulness of reviews based on gender."
   ]
  },
  {
   "cell_type": "code",
   "execution_count": 23,
   "id": "e7809b0b",
   "metadata": {},
   "outputs": [
    {
     "data": {
      "image/png": "[encoded data removed]",
      "text/plain": [
       "<Figure size 720.75x500 with 1 Axes>"
      ]
     },
     "metadata": {},
     "output_type": "display_data"
    }
   ],
   "source": [
    "sns.catplot(x='gender', y='category', hue='category', data=clean_ecomdata)\n",
    "plt.show()\n"
   ]
  },
  {
   "cell_type": "markdown",
   "id": "1535c725",
   "metadata": {},
   "source": [
    "# Categorical Plot of Gender vs Category:\n",
    "- This plot showcases the distribution of product categories for each gender. The repeated color patterns indicate that both genders have reviewed products from a variety of categories.\n",
    "- Both male and female users seem to review products across various categories. However, due to the overlap and dense clustering, it's challenging to discern any clear patterns or preferences for either gender regarding specific categories"
   ]
  },
  {
   "cell_type": "code",
   "execution_count": 27,
   "id": "05b09acb",
   "metadata": {},
   "outputs": [
    {
     "data": {
      "image/png": "[encoded data removed]",
      "text/plain": [
       "<Figure size 640x480 with 1 Axes>"
      ]
     },
     "metadata": {},
     "output_type": "display_data"
    }
   ],
   "source": [
    "sns.boxplot(x='gender', y='rating' , data=clean_ecomdata)\n",
    "plt.show()"
   ]
  },
  {
   "cell_type": "markdown",
   "id": "cc01f857",
   "metadata": {},
   "source": [
    "# Boxplot of Ratings by Gender:\n",
    "- Both male and female users have a median rating close to 4.\n",
    "- The interquartile range for ratings is similar for both genders.\n",
    "- As seen in the previous analysis, both genders tend to provide similar ratings, with neither being consistently more generous or critical than the other."
   ]
  },
  {
   "cell_type": "markdown",
   "id": "f5c4654b",
   "metadata": {},
   "source": [
    "#### Q4. Detect and remove outliers\n",
    "\n",
    "We may define outlier users, reviews and items with three rules (if a record meets one of the rules, it is regarded as an outlier):\n",
    "\n",
    "* reviews of which the helpfulness is no more than 2\n",
    "* users who rate less than 7 items\n",
    "* items that receives less than 11 ratings \n",
    " \n",
    "Please remove the corresponding records in the csv file that involves outlier users, reviews and items. After that, __print the length of the data__."
   ]
  },
  {
   "cell_type": "code",
   "execution_count": 28,
   "id": "6d3600ac",
   "metadata": {},
   "outputs": [
    {
     "name": "stdout",
     "output_type": "stream",
     "text": [
      "13643\n"
     ]
    }
   ],
   "source": [
    "# Drop records from data frame where the helpfulness score is less than or equal to 2\n",
    "clean_ecomdata_noout = clean_ecomdata.drop(clean_ecomdata.index[clean_ecomdata.helpfulness <= 2])\n",
    "\n",
    "print(len(clean_ecomdata_noout))\n",
    "\n"
   ]
  },
  {
   "cell_type": "code",
   "execution_count": 29,
   "id": "e7a728a4",
   "metadata": {},
   "outputs": [
    {
     "name": "stdout",
     "output_type": "stream",
     "text": [
      "2741\n"
     ]
    }
   ],
   "source": [
    "# Group by userid and count their ratings\n",
    "user_rating_counts = clean_ecomdata_noout.groupby('userId').size()\n",
    "\n",
    "# we get userids with fewer than 7 ratings\n",
    "users_to_drop = user_rating_counts[user_rating_counts < 7].index\n",
    "\n",
    "# Find the indices in the original dataframe corresponding to these users\n",
    "to_drop = clean_ecomdata_noout[clean_ecomdata_noout['userId'].isin(users_to_drop)].index\n",
    "\n",
    "# Drop these indices from the dataframe\n",
    "clean_ecomdata_noout = clean_ecomdata_noout.drop(to_drop)\n",
    "print(len(clean_ecomdata_noout))\n"
   ]
  },
  {
   "cell_type": "code",
   "execution_count": 30,
   "id": "eb169c3e",
   "metadata": {},
   "outputs": [],
   "source": [
    "# Group by 'item' and count the number of occurrences of each item in the dataset\n",
    "item_counts = clean_ecomdata_noout.groupby('item').size()\n",
    "\n",
    "# Identify items that have been reviewed less than 11 times\n",
    "items_to_drop = item_counts[item_counts < 11].index\n",
    "\n",
    "# Get the records in the dataset that correspond to the items identified to be dropped\n",
    "items_drop_list = clean_ecomdata_noout[clean_ecomdata_noout['item'].isin(items_to_drop)].index\n",
    "\n",
    "# Drop the records corresponding to the identified indices from the dataset\n",
    "clean_ecomdata_noout = clean_ecomdata_noout.drop(index=items_drop_list)\n"
   ]
  },
  {
   "cell_type": "code",
   "execution_count": 31,
   "id": "7c4e3596",
   "metadata": {},
   "outputs": [
    {
     "name": "stdout",
     "output_type": "stream",
     "text": [
      "19916\n",
      "2685\n"
     ]
    }
   ],
   "source": [
    "#length of the data before and after removing outliers\n",
    "print(len(clean_ecomdata))\n",
    "print(len(clean_ecomdata_noout))"
   ]
  },
  {
   "cell_type": "code",
   "execution_count": null,
   "id": "42b38ff9",
   "metadata": {},
   "outputs": [],
   "source": []
  }
 ],
 "metadata": {
  "kernelspec": {
   "display_name": "Python 3 (ipykernel)",
   "language": "python",
   "name": "python3"
  },
  "language_info": {
   "codemirror_mode": {
    "name": "ipython",
    "version": 3
   },
   "file_extension": ".py",
   "mimetype": "text/x-python",
   "name": "python",
   "nbconvert_exporter": "python",
   "pygments_lexer": "ipython3",
   "version": "3.11.3"
  }
 },
 "nbformat": 4,
 "nbformat_minor": 5
}
